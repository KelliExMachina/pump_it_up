{
 "cells": [
  {
   "cell_type": "code",
   "execution_count": null,
   "metadata": {},
   "outputs": [],
   "source": [
    "import pandas as pd\n",
    "import numpy as np\n",
    "\n",
    "from sklearn.model_selection import train_test_split, cross_validate, StratifiedKFold, GridSearchCV\n",
    "from sklearn.preprocessing import StandardScaler\n",
    "\n",
    "from sklearn.neighbors import KNeighborsClassifier\n",
    "from sklearn.naive_bayes import GaussianNB\n",
    "from sklearn.ensemble import DecisionTreeClassifier, RandomForestClassifier\n",
    "\n",
    "from sklearn.metrics import mean_squared_error, confusion_matrix, classification_report, f1_score, accuracy_score, roc_curve, roc_auc_score, mean_absolute_error, r2_score\n",
    "\n",
    "\n",
    "import matplotlib.pyplot as plt\n",
    "import seaborn as sns\n",
    "\n",
    "%matplotlib inline\n",
    "\n",
    "import warnings\n",
    "warnings.filterwarnings(\"ignore\")"
   ]
  },
  {
   "cell_type": "code",
   "execution_count": null,
   "metadata": {},
   "outputs": [],
   "source": [
    "trainset_values = 'data/trainset_values.csv'\n",
    "trainset_labels = 'data/trainset_labels.csv'\n",
    "testset_values = 'data/testset_values.csv'\n",
    "\n",
    "df_trainset_values = pd.read_csv(trainset_values)\n",
    "df_trainset_labels = pd.read_csv(trainset_labels)\n",
    "df_testset_values = pd.read_csv(testset_values)"
   ]
  },
  {
   "cell_type": "code",
   "execution_count": null,
   "metadata": {},
   "outputs": [],
   "source": [
    "# combine trainset values and trainset labels into one dataset to become X"
   ]
  },
  {
   "cell_type": "code",
   "execution_count": null,
   "metadata": {},
   "outputs": [],
   "source": [
    "df.head()"
   ]
  },
  {
   "cell_type": "code",
   "execution_count": null,
   "metadata": {},
   "outputs": [],
   "source": [
    "df.shape"
   ]
  },
  {
   "cell_type": "code",
   "execution_count": null,
   "metadata": {},
   "outputs": [],
   "source": [
    "X = df.drop(columns=['PE'], axis=1)\n",
    "y = df_testset_values"
   ]
  },
  {
   "cell_type": "code",
   "execution_count": null,
   "metadata": {},
   "outputs": [],
   "source": [
    "y.value_counts().sort_index()"
   ]
  },
  {
   "cell_type": "code",
   "execution_count": null,
   "metadata": {},
   "outputs": [],
   "source": [
    "#X_train, X_test, y_train, y_test = train_test_split(X, y, test_size=.3, random_state=42)\n",
    "print('X_train: {}'.format(len(X_train)))\n",
    "print('y_train: {}'.format(len(y_train)))\n",
    "print('X_test: {}'.format(len(X_test)))\n",
    "print('y_test: {}'.format(len(y_test)))"
   ]
  },
  {
   "cell_type": "code",
   "execution_count": null,
   "metadata": {},
   "outputs": [],
   "source": [
    "# MVP\n",
    "dtc = DecisionTreeClassifier(random_state=42)\n",
    "dtc.fit(X_train, y_train)\n",
    "preds_dtc_test = dtc.predict(X_test)"
   ]
  },
  {
   "cell_type": "code",
   "execution_count": null,
   "metadata": {},
   "outputs": [],
   "source": [
    "# Model Eval\n",
    "print('Mean Squared Error:', mean_squared_error(y_test, preds_dtc_test))\n",
    "print('Mean Absolute Error:', mean_absolute_error(y_test, preds_dtc_test))\n",
    "print('R-squared:', r2_score(y_test, preds_dtc_test))"
   ]
  },
  {
   "cell_type": "code",
   "execution_count": null,
   "metadata": {},
   "outputs": [],
   "source": [
    "# Coonfusion Matrix\n",
    "cm_dtc = confusion_matrix(y_test, preds_dtc_test)\n",
    "print(cm_dtc)\n",
    "tn = cm_dtc[0,0]\n",
    "tp = cm_dtc[1,1]\n",
    "fp = cm_dtc[0,1]\n",
    "fn = cm_dtc[1,0]\n",
    "sns.heatmap(cm_dtc, cmap='coolwarm', annot=True)\n",
    "plt.xlabel('predictions')\n",
    "plt.ylabel('actuals')\n",
    "plt.show()\n",
    "\n",
    "precision = tp/(tp+fp)\n",
    "print('Precision: {}'.format(precision))\n",
    "\n",
    "# Your code here to calculate recall - how often the model's prediction of 'winner' was correct\n",
    "recall = tp/ (fp+fn)\n",
    "print('Recall: {}'.format(recall))\n",
    "\n",
    "# Your code here to calculate F-1 score\n",
    "f1 = (2 * precision * recall) / (precision + recall)\n",
    "print('F-1 Score: {}'.format(f1))"
   ]
  },
  {
   "cell_type": "markdown",
   "metadata": {},
   "source": [
    "#### Evaluate metrics in this cell"
   ]
  },
  {
   "cell_type": "code",
   "execution_count": 2,
   "metadata": {},
   "outputs": [],
   "source": [
    "# Possible scaling"
   ]
  },
  {
   "cell_type": "code",
   "execution_count": 1,
   "metadata": {},
   "outputs": [],
   "source": [
    "# GridSearch for hyoerparameter testing\n",
    "rfc = RandomForestClassifier(random_state=42)\n",
    "param_grid = {'max_depth':[7,9,20],\n",
    "             'n_estimators':[50,100,150],\n",
    "             'min_samples_split':[1,2,5]}\n",
    "cv_rfc = GridSearchCV(rfc, param_grid, cv=5) "
   ]
  },
  {
   "cell_type": "code",
   "execution_count": null,
   "metadata": {},
   "outputs": [],
   "source": [
    "cv_rfc.fit(X,y)"
   ]
  },
  {
   "cell_type": "code",
   "execution_count": null,
   "metadata": {},
   "outputs": [],
   "source": [
    "preds_rfc_test = cv_rfc.predict(X_test_sc) # predictions"
   ]
  },
  {
   "cell_type": "code",
   "execution_count": null,
   "metadata": {},
   "outputs": [],
   "source": [
    "# Model Eval\n",
    "print('Mean Squared Error:', mean_squared_error(y_test, preds_rfc_test))\n",
    "print('Mean Absolute Error:', mean_absolute_error(y_test, preds_rfc_test))\n",
    "print('R-squared:', r2_score(y_test, preds_rfc_test))"
   ]
  },
  {
   "cell_type": "code",
   "execution_count": null,
   "metadata": {},
   "outputs": [],
   "source": [
    "# Coonfusion Matrix\n",
    "cm_rfc = confusion_matrix(y_test, preds_rfc_test)\n",
    "print(cm_rfc)\n",
    "tn = cm_rfc[0,0]\n",
    "tp = cm_rfc[1,1]\n",
    "fp = cm_rfc[0,1]\n",
    "fn = cm_rfc[1,0]\n",
    "sns.heatmap(cm_rfc, cmap='coolwarm', annot=True)\n",
    "plt.xlabel('predictions')\n",
    "plt.ylabel('actuals')\n",
    "plt.show()\n",
    "\n",
    "precision = tp/(tp+fp)\n",
    "print('Precision: {}'.format(precision))\n",
    "\n",
    "# Your code here to calculate recall - how often the model's prediction of 'winner' was correct\n",
    "recall = tp/ (fp+fn)\n",
    "print('Recall: {}'.format(recall))\n",
    "\n",
    "# Your code here to calculate F-1 score\n",
    "f1 = (2 * precision * recall) / (precision + recall)\n",
    "print('F-1 Score: {}'.format(f1))"
   ]
  },
  {
   "cell_type": "code",
   "execution_count": null,
   "metadata": {},
   "outputs": [],
   "source": []
  },
  {
   "cell_type": "code",
   "execution_count": null,
   "metadata": {},
   "outputs": [],
   "source": []
  },
  {
   "cell_type": "code",
   "execution_count": null,
   "metadata": {},
   "outputs": [],
   "source": []
  }
 ],
 "metadata": {
  "kernelspec": {
   "display_name": "Python 3",
   "language": "python",
   "name": "python3"
  },
  "language_info": {
   "codemirror_mode": {
    "name": "ipython",
    "version": 3
   },
   "file_extension": ".py",
   "mimetype": "text/x-python",
   "name": "python",
   "nbconvert_exporter": "python",
   "pygments_lexer": "ipython3",
   "version": "3.7.6"
  }
 },
 "nbformat": 4,
 "nbformat_minor": 4
}
