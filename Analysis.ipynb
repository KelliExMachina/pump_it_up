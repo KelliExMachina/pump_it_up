{
 "cells": [
  {
   "cell_type": "code",
   "execution_count": null,
   "metadata": {},
   "outputs": [],
   "source": [
    "import pandas as pd\n",
    "import numpy as np\n",
    "\n",
    "# from cleaning import bgm_encoder\n",
    "\n",
    "from sklearn.model_selection import train_test_split, cross_validate, StratifiedKFold, GridSearchCV\n",
    "from sklearn.preprocessing import StandardScaler, LabelEncoder\n",
    "\n",
    "from sklearn.neighbors import KNeighborsClassifier\n",
    "from sklearn.naive_bayes import GaussianNB\n",
    "from sklearn.ensemble import RandomForestClassifier\n",
    "from sklearn.tree import DecisionTreeClassifier\n",
    "\n",
    "from sklearn.metrics import mean_squared_error, confusion_matrix, classification_report, f1_score, accuracy_score, roc_curve, roc_auc_score, mean_absolute_error, r2_score\n",
    "\n",
    "\n",
    "import matplotlib.pyplot as plt\n",
    "import seaborn as sns\n",
    "\n",
    "%matplotlib inline\n",
    "\n",
    "import warnings\n",
    "warnings.filterwarnings(\"ignore\")\n",
    "\n",
    "pd.set_option('display.max_columns', 50)\n",
    "pd.set_option('display.max_rows', 100)\n",
    "pd.options.display.float_format = '{:,.2f}'.format\n",
    "\n",
    "# %load_ext autoreload  # python's autoreload function.  updating my module does not require reimporting in jupyter\n",
    "# %autoreload 2df_trainset_values = 'data/trainset_values.csv'"
   ]
  },
  {
   "cell_type": "code",
   "execution_count": null,
   "metadata": {},
   "outputs": [],
   "source": [
    "df_trainset_values = 'data/trainset_values.csv'\n",
    "df_trainset_labels = 'data/trainset_labels.csv'\n",
    "#testset_values = 'data/testset_values.csv' --> ignoring this for now as this is for the competition\n",
    "\n",
    "df_X = pd.read_csv(df_trainset_values)\n",
    "df_y = pd.read_csv(df_trainset_labels)\n",
    "#df_testset_values = pd.read_csv(testset_values)"
   ]
  },
  {
   "cell_type": "code",
   "execution_count": null,
   "metadata": {},
   "outputs": [],
   "source": [
    "print(df_X.shape)\n",
    "print(df_y.shape)"
   ]
  },
  {
   "cell_type": "markdown",
   "metadata": {},
   "source": [
    "### Data Cleaning"
   ]
  },
  {
   "cell_type": "code",
   "execution_count": null,
   "metadata": {},
   "outputs": [],
   "source": [
    "df_X.head()"
   ]
  },
  {
   "cell_type": "code",
   "execution_count": null,
   "metadata": {},
   "outputs": [],
   "source": [
    "df_X.isnull().sum()"
   ]
  },
  {
   "cell_type": "code",
   "execution_count": null,
   "metadata": {},
   "outputs": [],
   "source": [
    "df_X_numeric = df_X.select_dtypes(exclude='object') # .columns.sort_values().tolist()"
   ]
  },
  {
   "cell_type": "code",
   "execution_count": null,
   "metadata": {},
   "outputs": [],
   "source": [
    "df_X_nonnumeric = df_X.select_dtypes('object') # .columns.sort_values().tolist()"
   ]
  },
  {
   "cell_type": "code",
   "execution_count": null,
   "metadata": {},
   "outputs": [],
   "source": [
    "df_X_nonnumeric.value_counts()"
   ]
  },
  {
   "cell_type": "code",
   "execution_count": null,
   "metadata": {},
   "outputs": [],
   "source": [
    "drop_candidates = df_X.select_dtypes(include='object').columns\n",
    "print(len(drop_candidates))\n",
    "print(drop_candidates)\n",
    "\n",
    "drop_columns = ['funder','extraction_type_group', 'extraction_type_class','payment', 'payment_type','quality_group','quantity_group','waterpoint_type_group','source_type','source_class','public_meeting', 'recorded_by','num_private','permit']\n",
    "print(len(drop_columns))\n",
    "print(drop_columns)\n",
    "\n",
    "for col in drop_columns:\n",
    "    df_X.drop(columns=col,axis=1,inplace=True)"
   ]
  },
  {
   "cell_type": "code",
   "execution_count": null,
   "metadata": {},
   "outputs": [],
   "source": [
    "drop_candidates = df_X.select_dtypes('object').columns\n",
    "print(len(drop_candidates))\n",
    "print(drop_candidates)\n",
    "\n",
    "# if the model is too complicated ()\n",
    "drop_possibile = ['extraction_type_group', 'extraction_type_class','management_group']"
   ]
  },
  {
   "cell_type": "code",
   "execution_count": null,
   "metadata": {},
   "outputs": [],
   "source": [
    "# df_impute = df_X.select_dtypes('object').isnull().sum()"
   ]
  },
  {
   "cell_type": "code",
   "execution_count": null,
   "metadata": {},
   "outputs": [],
   "source": [
    "drop_impute = ['installer','subvillage','scheme_management','scheme_name']\n",
    "for col in drop_impute:\n",
    "    df_X.drop(columns=col,axis=1,inplace=True)"
   ]
  },
  {
   "cell_type": "code",
   "execution_count": null,
   "metadata": {},
   "outputs": [],
   "source": [
    "df_X_nonnumeric['management'].value_counts().sort_index()"
   ]
  },
  {
   "cell_type": "code",
   "execution_count": null,
   "metadata": {},
   "outputs": [],
   "source": [
    "# encoding y before TTS\n",
    "from sklearn.preprocessing import LabelEncoder"
   ]
  },
  {
   "cell_type": "code",
   "execution_count": null,
   "metadata": {},
   "outputs": [],
   "source": [
    "df_y['status_group'] = df_y['status_group'].apply(lambda x: x.replace(' ','_'))\n",
    "df_y['status_group'].value_counts()"
   ]
  },
  {
   "cell_type": "code",
   "execution_count": null,
   "metadata": {},
   "outputs": [],
   "source": [
    "%%time\n",
    "\n",
    "# BMG Encoder\n",
    "def bgm_encoder(element):\n",
    "    if element == 'functional':\n",
    "        return 0\n",
    "    elif element == 'functional_needs_repair':\n",
    "        return 1\n",
    "    else:\n",
    "        return 2\n",
    "\n",
    "df_y['status_group'] = df_y['status_group'].apply(bgm_encoder)\n",
    "df_y['status_group'].value_counts()\n",
    "# 0 = functional\n",
    "# 1 = functional_needs_repair\n",
    "# 2 = non_functional"
   ]
  },
  {
   "cell_type": "code",
   "execution_count": null,
   "metadata": {},
   "outputs": [],
   "source": [
    "X = df_X_numeric\n",
    "y = df_y"
   ]
  },
  {
   "cell_type": "code",
   "execution_count": null,
   "metadata": {},
   "outputs": [],
   "source": [
    "X_train, X_test, y_train, y_test = train_test_split(df_X_numeric, y, test_size=.2, random_state=42)\n",
    "print('X_train: {}'.format(len(X_train)))\n",
    "print('y_train: {}'.format(len(y_train)))\n",
    "print('X_test: {}'.format(len(X_test)))\n",
    "print('y_test: {}'.format(len(y_test)))"
   ]
  },
  {
   "cell_type": "code",
   "execution_count": null,
   "metadata": {},
   "outputs": [],
   "source": [
    "# X_train, X_test, y_train, y_test = train_test_split(X, y, test_size=.2, random_state=42)\n",
    "# print('X_train: {}'.format(len(X_train)))\n",
    "# print('y_train: {}'.format(len(y_train)))\n",
    "# print('X_test: {}'.format(len(X_test)))\n",
    "# print('y_test: {}'.format(len(y_test)))"
   ]
  },
  {
   "cell_type": "code",
   "execution_count": null,
   "metadata": {},
   "outputs": [],
   "source": [
    "# fitting a numeric only model\n",
    "\n",
    "dtc = DecisionTreeClassifier(max_depth=10, random_state=42)\n",
    "dtc.fit(X_train, y_train)"
   ]
  },
  {
   "cell_type": "code",
   "execution_count": null,
   "metadata": {},
   "outputs": [],
   "source": [
    "# Kernel restarting here\n",
    "preds_dtc_train = dtc.predict(X_train)"
   ]
  },
  {
   "cell_type": "code",
   "execution_count": null,
   "metadata": {},
   "outputs": [],
   "source": [
    "preds_dtc_train[:,1]"
   ]
  },
  {
   "cell_type": "code",
   "execution_count": null,
   "metadata": {},
   "outputs": [],
   "source": [
    "#create a confusion matrix\n",
    "dtc_train_confusion_matrix = confusion_matrix(preds_dtc_train[:,1], y_train['status_group'])\n"
   ]
  },
  {
   "cell_type": "code",
   "execution_count": null,
   "metadata": {},
   "outputs": [],
   "source": [
    "print(dtc_train_confusion_matrix)\n",
    "tn = dtc_train_confusion_matrix[0,0]\n",
    "tp = dtc_train_confusion_matrix[1,1]\n",
    "fp = dtc_train_confusion_matrix[0,1]\n",
    "fn = dtc_train_confusion_matrix[1,0]\n",
    "\n",
    "sns.heatmap(dtc_train_confusion_matrix, cmap='coolwarm', annot=True)\n",
    "plt.xlabel('predictions')\n",
    "plt.ylabel('actuals')\n",
    "plt.show()\n",
    "\n",
    "# Precision\n",
    "precision = tp/(tp+fp)\n",
    "print('Precision: {}'.format(precision))\n",
    "\n",
    "# How often the model's prediction of 'winner' was correct\n",
    "recall = tp/ (fp+fn)\n",
    "print('Recall: {}'.format(recall))\n",
    "\n",
    "# F-1 score\n",
    "f1 = (2 * precision * recall) / (precision + recall)\n",
    "print('F-1 Score: {}'.format(f1))"
   ]
  },
  {
   "cell_type": "code",
   "execution_count": null,
   "metadata": {},
   "outputs": [],
   "source": [
    "# MVP\n",
    "dtc = DecisionTreeClassifier(random_state=42)\n",
    "dtc.fit(X_train, y_train)\n",
    "preds_dtc_train = dtc.predict(X_test)"
   ]
  },
  {
   "cell_type": "code",
   "execution_count": null,
   "metadata": {},
   "outputs": [],
   "source": [
    "# Model Eval\n",
    "print('Mean Squared Error:', mean_squared_error(y_test, preds_dtc_test))\n",
    "print('Mean Absolute Error:', mean_absolute_error(y_test, preds_dtc_test))\n",
    "print('R-squared:', r2_score(y_test, preds_dtc_test))"
   ]
  },
  {
   "cell_type": "code",
   "execution_count": null,
   "metadata": {},
   "outputs": [],
   "source": [
    "# Coonfusion Matrix\n",
    "cm_dtc = confusion_matrix(y_test, preds_dtc_test)\n",
    "print(cm_dtc)\n",
    "tn = cm_dtc[0,0]\n",
    "tp = cm_dtc[1,1]\n",
    "fp = cm_dtc[0,1]\n",
    "fn = cm_dtc[1,0]\n",
    "sns.heatmap(cm_dtc, cmap='coolwarm', annot=True)\n",
    "plt.xlabel('predictions')\n",
    "plt.ylabel('actuals')\n",
    "plt.show()\n",
    "\n",
    "precision = tp/(tp+fp)\n",
    "print('Precision: {}'.format(precision))\n",
    "\n",
    "# Your code here to calculate recall - how often the model's prediction of 'winner' was correct\n",
    "recall = tp/ (fp+fn)\n",
    "print('Recall: {}'.format(recall))\n",
    "\n",
    "# Your code here to calculate F-1 score\n",
    "f1 = (2 * precision * recall) / (precision + recall)\n",
    "print('F-1 Score: {}'.format(f1))"
   ]
  },
  {
   "cell_type": "markdown",
   "metadata": {},
   "source": [
    "#### Evaluate metrics in this cell"
   ]
  },
  {
   "cell_type": "code",
   "execution_count": null,
   "metadata": {},
   "outputs": [],
   "source": [
    "# Possible scaling"
   ]
  },
  {
   "cell_type": "code",
   "execution_count": null,
   "metadata": {},
   "outputs": [],
   "source": [
    "# GridSearch for hyoerparameter testing\n",
    "rfc = RandomForestClassifier(random_state=42)\n",
    "param_grid = {'max_depth':[7,9,20],\n",
    "             'n_estimators':[50,100,150],\n",
    "             'min_samples_split':[1,2,5]}\n",
    "cv_rfc = GridSearchCV(rfc, param_grid, cv=5) "
   ]
  },
  {
   "cell_type": "code",
   "execution_count": null,
   "metadata": {},
   "outputs": [],
   "source": [
    "cv_rfc.fit(X,y)"
   ]
  },
  {
   "cell_type": "code",
   "execution_count": null,
   "metadata": {},
   "outputs": [],
   "source": [
    "preds_rfc_test = cv_rfc.predict(X_test_sc) # predictions"
   ]
  },
  {
   "cell_type": "code",
   "execution_count": null,
   "metadata": {},
   "outputs": [],
   "source": [
    "# Model Eval\n",
    "print('Mean Squared Error:', mean_squared_error(y_test, preds_rfc_test))\n",
    "print('Mean Absolute Error:', mean_absolute_error(y_test, preds_rfc_test))\n",
    "print('R-squared:', r2_score(y_test, preds_rfc_test))"
   ]
  },
  {
   "cell_type": "code",
   "execution_count": null,
   "metadata": {},
   "outputs": [],
   "source": [
    "# Coonfusion Matrix\n",
    "cm_rfc = confusion_matrix(y_test, preds_rfc_test)\n",
    "print(cm_rfc)\n",
    "tn = cm_rfc[0,0]\n",
    "tp = cm_rfc[1,1]\n",
    "fp = cm_rfc[0,1]\n",
    "fn = cm_rfc[1,0]\n",
    "sns.heatmap(cm_rfc, cmap='coolwarm', annot=True)\n",
    "plt.xlabel('predictions')\n",
    "plt.ylabel('actuals')\n",
    "plt.show()\n",
    "\n",
    "precision = tp/(tp+fp)\n",
    "print('Precision: {}'.format(precision))\n",
    "\n",
    "# Your code here to calculate recall - how often the model's prediction of 'winner' was correct\n",
    "recall = tp/ (fp+fn)\n",
    "print('Recall: {}'.format(recall))\n",
    "\n",
    "# Your code here to calculate F-1 score\n",
    "f1 = (2 * precision * recall) / (precision + recall)\n",
    "print('F-1 Score: {}'.format(f1))"
   ]
  }
 ],
 "metadata": {
  "kernelspec": {
   "display_name": "Python 3",
   "language": "python",
   "name": "python3"
  },
  "language_info": {
   "codemirror_mode": {
    "name": "ipython",
    "version": 3
   },
   "file_extension": ".py",
   "mimetype": "text/x-python",
   "name": "python",
   "nbconvert_exporter": "python",
   "pygments_lexer": "ipython3",
   "version": "3.7.0"
  }
 },
 "nbformat": 4,
 "nbformat_minor": 4
}
