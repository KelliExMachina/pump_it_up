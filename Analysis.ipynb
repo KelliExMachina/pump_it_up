{
 "cells": [
  {
   "cell_type": "code",
   "execution_count": 1,
   "metadata": {},
   "outputs": [],
   "source": [
    "import pandas as pd\n",
    "import numpy as np\n",
    "\n",
    "# from cleaning import bgm_encoder\n",
    "\n",
    "from sklearn.model_selection import train_test_split, cross_validate, StratifiedKFold, GridSearchCV\n",
    "from sklearn.preprocessing import StandardScaler, LabelEncoder\n",
    "\n",
    "from sklearn.ensemble import RandomForestClassifier\n",
    "from sklearn.tree import DecisionTreeClassifier\n",
    "\n",
    "from sklearn.metrics import mean_squared_error, classification_report, f1_score, accuracy_score, roc_curve, roc_auc_score, mean_absolute_error, r2_score\n",
    "\n",
    "import matplotlib.pyplot as plt\n",
    "import seaborn as sns\n",
    "\n",
    "%matplotlib inline\n",
    "\n",
    "import warnings\n",
    "warnings.filterwarnings(\"ignore\")\n",
    "\n",
    "pd.set_option('display.max_columns', 50)\n",
    "pd.set_option('display.max_rows', 100)\n",
    "pd.options.display.float_format = '{:,.2f}'.format\n",
    "\n",
    "# %load_ext autoreload  # python's autoreload function.  updating my module does not require reimporting in jupyter\n",
    "# %autoreload 2df_trainset_values = 'data/trainset_values.csv'"
   ]
  },
  {
   "cell_type": "code",
   "execution_count": 2,
   "metadata": {},
   "outputs": [],
   "source": [
    "df_trainset_values = 'data/trainset_values.csv'\n",
    "df_trainset_labels = 'data/trainset_labels.csv'\n",
    "#testset_values = 'data/testset_values.csv' --> ignoring this for now as this is for the competition\n",
    "\n",
    "df_X = pd.read_csv(df_trainset_values)\n",
    "df_y = pd.read_csv(df_trainset_labels)\n",
    "#df_testset_values = pd.read_csv(testset_values)"
   ]
  },
  {
   "cell_type": "code",
   "execution_count": 3,
   "metadata": {},
   "outputs": [
    {
     "name": "stdout",
     "output_type": "stream",
     "text": [
      "(59400, 40)\n",
      "(59400, 2)\n"
     ]
    }
   ],
   "source": [
    "print(df_X.shape)\n",
    "print(df_y.shape)"
   ]
  },
  {
   "cell_type": "markdown",
   "metadata": {},
   "source": [
    "### Data Cleaning"
   ]
  },
  {
   "cell_type": "code",
   "execution_count": 4,
   "metadata": {},
   "outputs": [
    {
     "data": {
      "text/plain": [
       "id                           0\n",
       "amount_tsh                   0\n",
       "date_recorded                0\n",
       "funder                    3635\n",
       "gps_height                   0\n",
       "installer                 3655\n",
       "longitude                    0\n",
       "latitude                     0\n",
       "wpt_name                     0\n",
       "num_private                  0\n",
       "basin                        0\n",
       "subvillage                 371\n",
       "region                       0\n",
       "region_code                  0\n",
       "district_code                0\n",
       "lga                          0\n",
       "ward                         0\n",
       "population                   0\n",
       "public_meeting            3334\n",
       "recorded_by                  0\n",
       "scheme_management         3877\n",
       "scheme_name              28166\n",
       "permit                    3056\n",
       "construction_year            0\n",
       "extraction_type              0\n",
       "extraction_type_group        0\n",
       "extraction_type_class        0\n",
       "management                   0\n",
       "management_group             0\n",
       "payment                      0\n",
       "payment_type                 0\n",
       "water_quality                0\n",
       "quality_group                0\n",
       "quantity                     0\n",
       "quantity_group               0\n",
       "source                       0\n",
       "source_type                  0\n",
       "source_class                 0\n",
       "waterpoint_type              0\n",
       "waterpoint_type_group        0\n",
       "dtype: int64"
      ]
     },
     "execution_count": 4,
     "metadata": {},
     "output_type": "execute_result"
    }
   ],
   "source": [
    "df_X.isnull().sum()"
   ]
  },
  {
   "cell_type": "code",
   "execution_count": 5,
   "metadata": {},
   "outputs": [],
   "source": [
    "df_X_numeric = df_X.select_dtypes(exclude='object') # .columns.sort_values().tolist()"
   ]
  },
  {
   "cell_type": "code",
   "execution_count": 6,
   "metadata": {},
   "outputs": [],
   "source": [
    "#df_X_nonnumeric = df_X.select_dtypes('object') # .columns.sort_values().tolist()\n",
    "\n",
    "#df_X['management'].value_counts().sort_index()"
   ]
  },
  {
   "cell_type": "code",
   "execution_count": 7,
   "metadata": {},
   "outputs": [
    {
     "name": "stdout",
     "output_type": "stream",
     "text": [
      "14\n",
      "['payment', 'payment_type', 'quality_group', 'quantity_group', 'waterpoint_type_group', 'source_type', 'source_class', 'public_meeting', 'recorded_by', 'num_private', 'permit', 'scheme_management', 'scheme_name', 'subvillage']\n"
     ]
    }
   ],
   "source": [
    "drop_columns = ['payment', 'payment_type','quality_group','quantity_group','waterpoint_type_group','source_type','source_class','public_meeting', 'recorded_by','num_private','permit','scheme_management','scheme_name','subvillage']\n",
    "print(len(drop_columns))\n",
    "print(drop_columns)\n",
    "\n",
    "for col in drop_columns:\n",
    "    df_X.drop(columns=col,axis=1,inplace=True)"
   ]
  },
  {
   "cell_type": "code",
   "execution_count": 20,
   "metadata": {},
   "outputs": [
    {
     "name": "stdout",
     "output_type": "stream",
     "text": [
      "16\n",
      "Index(['funder', 'installer', 'wpt_name', 'basin', 'region', 'lga', 'ward',\n",
      "       'extraction_type', 'extraction_type_group', 'extraction_type_class',\n",
      "       'management', 'management_group', 'water_quality', 'quantity', 'source',\n",
      "       'waterpoint_type'],\n",
      "      dtype='object')\n"
     ]
    }
   ],
   "source": [
    "drop_candidates = df_X.select_dtypes('object').columns\n",
    "print(len(drop_candidates))\n",
    "print(drop_candidates)\n",
    "\n",
    "encode_columns = ['funder', 'installer','management','management_group','extraction_type_group','extraction_type_class']"
   ]
  },
  {
   "cell_type": "code",
   "execution_count": 9,
   "metadata": {},
   "outputs": [],
   "source": [
    "#df_X['extraction_type_class'].value_counts().sort_index()"
   ]
  },
  {
   "cell_type": "markdown",
   "metadata": {},
   "source": [
    "## <mark style='background-color: blue'>Imputing and Encoding for Categorical</mark>"
   ]
  },
  {
   "cell_type": "code",
   "execution_count": 10,
   "metadata": {},
   "outputs": [],
   "source": [
    "def impute_cat_unknown(df, col):\n",
    "    '''\n",
    "    Impute the value 'Unknown' for df column with na's.\n",
    "    Input: df = dataframe, col = list of columns\n",
    "    Output: imputed df\n",
    "    '''\n",
    "    for x in col:\n",
    "        df[x].fillna('Unknown',inplace=True)\n",
    "    return df\n",
    "def impute_cat_common(df, col):\n",
    "    '''\n",
    "    Impute the most common value for df column with na's.\n",
    "    Input: df = dataframe, col = list of columns\n",
    "    Output: imputed df\n",
    "    '''\n",
    "    for x in col:\n",
    "        df[x].apply(lambda x: x.fillna(x.value_counts().index[0]))\n",
    "    return df"
   ]
  },
  {
   "cell_type": "code",
   "execution_count": 11,
   "metadata": {},
   "outputs": [],
   "source": [
    "df_X = impute_cat_unknown(df_X,['installer','funder'])"
   ]
  },
  {
   "cell_type": "code",
   "execution_count": 12,
   "metadata": {},
   "outputs": [
    {
     "data": {
      "text/plain": [
       "id                       0\n",
       "amount_tsh               0\n",
       "date_recorded            0\n",
       "funder                   0\n",
       "gps_height               0\n",
       "installer                0\n",
       "longitude                0\n",
       "latitude                 0\n",
       "wpt_name                 0\n",
       "basin                    0\n",
       "region                   0\n",
       "region_code              0\n",
       "district_code            0\n",
       "lga                      0\n",
       "ward                     0\n",
       "population               0\n",
       "construction_year        0\n",
       "extraction_type          0\n",
       "extraction_type_group    0\n",
       "extraction_type_class    0\n",
       "management               0\n",
       "management_group         0\n",
       "water_quality            0\n",
       "quantity                 0\n",
       "source                   0\n",
       "waterpoint_type          0\n",
       "dtype: int64"
      ]
     },
     "execution_count": 12,
     "metadata": {},
     "output_type": "execute_result"
    }
   ],
   "source": [
    "df_X.isnull().sum()"
   ]
  },
  {
   "cell_type": "code",
   "execution_count": 13,
   "metadata": {},
   "outputs": [],
   "source": [
    "# encoding y before TTS\n",
    "from sklearn.preprocessing import LabelEncoder"
   ]
  },
  {
   "cell_type": "code",
   "execution_count": 14,
   "metadata": {},
   "outputs": [
    {
     "data": {
      "text/plain": [
       "functional                 32259\n",
       "non_functional             22824\n",
       "functional_needs_repair     4317\n",
       "Name: status_group, dtype: int64"
      ]
     },
     "execution_count": 14,
     "metadata": {},
     "output_type": "execute_result"
    }
   ],
   "source": [
    "df_y['status_group'] = df_y['status_group'].apply(lambda x: x.replace(' ','_'))\n",
    "df_y['status_group'].value_counts()"
   ]
  },
  {
   "cell_type": "code",
   "execution_count": 15,
   "metadata": {},
   "outputs": [
    {
     "name": "stdout",
     "output_type": "stream",
     "text": [
      "CPU times: user 26.8 ms, sys: 1.9 ms, total: 28.7 ms\n",
      "Wall time: 27.7 ms\n"
     ]
    },
    {
     "data": {
      "text/plain": [
       "0    32259\n",
       "2    22824\n",
       "1     4317\n",
       "Name: status_group, dtype: int64"
      ]
     },
     "execution_count": 15,
     "metadata": {},
     "output_type": "execute_result"
    }
   ],
   "source": [
    "%%time\n",
    "\n",
    "# BMG Encoder\n",
    "def bgm_encoder(element):\n",
    "    if element == 'functional':\n",
    "        return 0\n",
    "    elif element == 'functional_needs_repair':\n",
    "        return 1\n",
    "    else:\n",
    "        return 2\n",
    "\n",
    "df_y['status_group'] = df_y['status_group'].apply(bgm_encoder)\n",
    "df_y['status_group'].value_counts()\n",
    "# 0 = functional\n",
    "# 1 = functional_needs_repair\n",
    "# 2 = non_functional"
   ]
  },
  {
   "cell_type": "code",
   "execution_count": 16,
   "metadata": {},
   "outputs": [],
   "source": [
    "df_X['date_recorded'] = [pd.to_datetime(x).value for x in df_X.date_recorded]"
   ]
  },
  {
   "cell_type": "code",
   "execution_count": 17,
   "metadata": {},
   "outputs": [],
   "source": [
    "df_X_nonnumeric = df_X.select_dtypes('object')"
   ]
  },
  {
   "cell_type": "code",
   "execution_count": 18,
   "metadata": {},
   "outputs": [
    {
     "data": {
      "text/plain": [
       "Index(['funder', 'installer', 'wpt_name', 'basin', 'region', 'lga', 'ward',\n",
       "       'extraction_type', 'extraction_type_group', 'extraction_type_class',\n",
       "       'management', 'management_group', 'water_quality', 'quantity', 'source',\n",
       "       'waterpoint_type'],\n",
       "      dtype='object')"
      ]
     },
     "execution_count": 18,
     "metadata": {},
     "output_type": "execute_result"
    }
   ],
   "source": [
    "df_X_nonnumeric.columns"
   ]
  },
  {
   "cell_type": "code",
   "execution_count": 19,
   "metadata": {},
   "outputs": [
    {
     "name": "stdout",
     "output_type": "stream",
     "text": [
      "['date_recorded', 'funder', 'installer', 'management', 'management_group', 'extraction_type_group', 'extraction_type_class']\n"
     ]
    }
   ],
   "source": [
    "print(encode_columns)"
   ]
  },
  {
   "cell_type": "code",
   "execution_count": null,
   "metadata": {},
   "outputs": [],
   "source": []
  },
  {
   "cell_type": "code",
   "execution_count": null,
   "metadata": {},
   "outputs": [],
   "source": []
  },
  {
   "cell_type": "code",
   "execution_count": null,
   "metadata": {},
   "outputs": [],
   "source": [
    "X = df_X_numeric\n",
    "y = df_y"
   ]
  },
  {
   "cell_type": "code",
   "execution_count": null,
   "metadata": {},
   "outputs": [],
   "source": [
    "X_train, X_test, y_train, y_test = train_test_split(df_X_numeric, y, test_size=.2, random_state=42)\n",
    "print('X_train: {}'.format(len(X_train)))\n",
    "print('y_train: {}'.format(len(y_train)))\n",
    "print('X_test: {}'.format(len(X_test)))\n",
    "print('y_test: {}'.format(len(y_test)))"
   ]
  },
  {
   "cell_type": "code",
   "execution_count": null,
   "metadata": {},
   "outputs": [],
   "source": [
    "dtc = DecisionTreeClassifier(max_depth=10, random_state=42)\n",
    "dtc.fit(X_train, y_train)"
   ]
  },
  {
   "cell_type": "code",
   "execution_count": null,
   "metadata": {},
   "outputs": [],
   "source": [
    "preds_dtc_train = dtc.predict(X_train)"
   ]
  },
  {
   "cell_type": "code",
   "execution_count": null,
   "metadata": {},
   "outputs": [],
   "source": [
    "dtc_train_class_report = classification_report(y_train['status_group'], preds_dtc_train[:,1])\n",
    "print(dtc_train_class_report)"
   ]
  },
  {
   "cell_type": "code",
   "execution_count": null,
   "metadata": {},
   "outputs": [],
   "source": [
    "preds_dtc_test = dtc.predict(X_test)"
   ]
  },
  {
   "cell_type": "code",
   "execution_count": null,
   "metadata": {},
   "outputs": [],
   "source": [
    "dtc_test_class_report = classification_report(y_test['status_group'], preds_dtc_test[:,1])\n",
    "print(dtc_test_class_report)"
   ]
  },
  {
   "cell_type": "code",
   "execution_count": null,
   "metadata": {},
   "outputs": [],
   "source": [
    "# fit a baseline Random Forest Model\n",
    "rf_params = {'max_depth': 10,\n",
    "            'criterion'='gini',\n",
    "            'max_features': 5,\n",
    "            'n_estimators'=200,\n",
    "             'min_samples_split'=2,\n",
    "             'min_samples_leaf'=1,\n",
    "             'max_features'='auto'\n",
    "            }\n",
    "rfc_baseline = RandomForestClassifier(rf_params)\n",
    "rfc_baseline.fit(X_train, y_train)"
   ]
  },
  {
   "cell_type": "code",
   "execution_count": null,
   "metadata": {},
   "outputs": [],
   "source": []
  },
  {
   "cell_type": "code",
   "execution_count": null,
   "metadata": {},
   "outputs": [],
   "source": []
  },
  {
   "cell_type": "code",
   "execution_count": null,
   "metadata": {},
   "outputs": [],
   "source": [
    "# MVP\n",
    "dtc = DecisionTreeClassifier(random_state=42)\n",
    "dtc.fit(X_train, y_train)\n",
    "preds_dtc_train = dtc.predict(X_test)"
   ]
  },
  {
   "cell_type": "code",
   "execution_count": null,
   "metadata": {},
   "outputs": [],
   "source": [
    "# Model Eval\n",
    "print('Mean Squared Error:', mean_squared_error(y_test, preds_dtc_test))\n",
    "print('Mean Absolute Error:', mean_absolute_error(y_test, preds_dtc_test))\n",
    "print('R-squared:', r2_score(y_test, preds_dtc_test))"
   ]
  },
  {
   "cell_type": "markdown",
   "metadata": {},
   "source": [
    "#### Evaluate metrics in this cell"
   ]
  },
  {
   "cell_type": "code",
   "execution_count": null,
   "metadata": {},
   "outputs": [],
   "source": [
    "# Possible scaling"
   ]
  },
  {
   "cell_type": "code",
   "execution_count": null,
   "metadata": {},
   "outputs": [],
   "source": [
    "# GridSearch for hyoerparameter testing\n",
    "rfc = RandomForestClassifier(random_state=42)\n",
    "param_grid = {'max_depth':[7,9,20],\n",
    "             'n_estimators':[50,100,150],\n",
    "             'min_samples_split':[1,2,5]}\n",
    "cv_rfc = GridSearchCV(rfc, param_grid, cv=5) "
   ]
  },
  {
   "cell_type": "code",
   "execution_count": null,
   "metadata": {},
   "outputs": [],
   "source": [
    "cv_rfc.fit(X,y)"
   ]
  },
  {
   "cell_type": "code",
   "execution_count": null,
   "metadata": {},
   "outputs": [],
   "source": [
    "preds_rfc_test = cv_rfc.predict(X_test_sc) # predictions"
   ]
  },
  {
   "cell_type": "code",
   "execution_count": null,
   "metadata": {},
   "outputs": [],
   "source": [
    "# Model Eval\n",
    "print('Mean Squared Error:', mean_squared_error(y_test, preds_rfc_test))\n",
    "print('Mean Absolute Error:', mean_absolute_error(y_test, preds_rfc_test))\n",
    "print('R-squared:', r2_score(y_test, preds_rfc_test))"
   ]
  },
  {
   "cell_type": "code",
   "execution_count": null,
   "metadata": {},
   "outputs": [],
   "source": [
    "# Coonfusion Matrix\n",
    "cm_rfc = confusion_matrix(y_test, preds_rfc_test)\n",
    "print(cm_rfc)\n",
    "tn = cm_rfc[0,0]\n",
    "tp = cm_rfc[1,1]\n",
    "fp = cm_rfc[0,1]\n",
    "fn = cm_rfc[1,0]\n",
    "sns.heatmap(cm_rfc, cmap='coolwarm', annot=True)\n",
    "plt.xlabel('predictions')\n",
    "plt.ylabel('actuals')\n",
    "plt.show()\n",
    "\n",
    "precision = tp/(tp+fp)\n",
    "print('Precision: {}'.format(precision))\n",
    "\n",
    "# Your code here to calculate recall - how often the model's prediction of 'winner' was correct\n",
    "recall = tp/ (fp+fn)\n",
    "print('Recall: {}'.format(recall))\n",
    "\n",
    "# Your code here to calculate F-1 score\n",
    "f1 = (2 * precision * recall) / (precision + recall)\n",
    "print('F-1 Score: {}'.format(f1))"
   ]
  }
 ],
 "metadata": {
  "kernelspec": {
   "display_name": "Python 3",
   "language": "python",
   "name": "python3"
  },
  "language_info": {
   "codemirror_mode": {
    "name": "ipython",
    "version": 3
   },
   "file_extension": ".py",
   "mimetype": "text/x-python",
   "name": "python",
   "nbconvert_exporter": "python",
   "pygments_lexer": "ipython3",
   "version": "3.7.0"
  }
 },
 "nbformat": 4,
 "nbformat_minor": 4
}
